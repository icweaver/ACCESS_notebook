{
 "cells": [
  {
   "cell_type": "code",
   "execution_count": 2,
   "id": "trained-draft",
   "metadata": {},
   "outputs": [],
   "source": [
    "import matplotlib.pyplot as plt\n",
    "import numpy as np"
   ]
  },
  {
   "cell_type": "markdown",
   "id": "provincial-microwave",
   "metadata": {},
   "source": [
    "## Select lines"
   ]
  },
  {
   "cell_type": "code",
   "execution_count": 1,
   "id": "enabling-round",
   "metadata": {},
   "outputs": [
    {
     "ename": "NameError",
     "evalue": "name 'utils' is not defined",
     "output_type": "error",
     "traceback": [
      "\u001b[0;31m---------------------------------------------------------------------------\u001b[0m",
      "\u001b[0;31mNameError\u001b[0m                                 Traceback (most recent call last)",
      "\u001b[0;32m<ipython-input-1-2a982f66b9f2>\u001b[0m in \u001b[0;36m<module>\u001b[0;34m\u001b[0m\n\u001b[1;32m     18\u001b[0m \u001b[0;34m\u001b[0m\u001b[0m\n\u001b[1;32m     19\u001b[0m \u001b[0;31m# Plot\u001b[0m\u001b[0;34m\u001b[0m\u001b[0;34m\u001b[0m\u001b[0;34m\u001b[0m\u001b[0m\n\u001b[0;32m---> 20\u001b[0;31m wavs, pixels = utils.compare_arc_lines(\n\u001b[0m\u001b[1;32m     21\u001b[0m     \u001b[0mfpath_arc_ref\u001b[0m\u001b[0;34m=\u001b[0m\u001b[0mfpath_arc_ref\u001b[0m\u001b[0;34m,\u001b[0m\u001b[0;34m\u001b[0m\u001b[0;34m\u001b[0m\u001b[0m\n\u001b[1;32m     22\u001b[0m     \u001b[0mfpath_lines_ref\u001b[0m\u001b[0;34m=\u001b[0m\u001b[0mfpath_lines_ref\u001b[0m\u001b[0;34m,\u001b[0m\u001b[0;34m\u001b[0m\u001b[0;34m\u001b[0m\u001b[0m\n",
      "\u001b[0;31mNameError\u001b[0m: name 'utils' is not defined"
     ]
    }
   ],
   "source": [
    "## Reference (NOAO), do this one first\n",
    "# fpath_arc_ref = \"noao_flux.fits\"\n",
    "# fpath_lines_ref = \"noao_line_list.txt\"\n",
    "\n",
    "# Reference (target) arc spectra, use as ref after calibrating inital with NOAO\n",
    "dirpath_ref = \"/home/mango/data/data_reductions/WASP50/ut131219_a15_25_noflat/arcs\"\n",
    "fpath_arc_ref = f\"{dirpath_ref}/WASP50_3_arc.fits\"\n",
    "name = fpath_arc_ref.split('/')[-1].split('_')[0]\n",
    "#fpath_lines_ref = f\"{dirpath_ref}/{name}_guesses.csv\"\n",
    "fpath_lines_ref = f\"{dirpath_ref}/{name}_lines_chips.txt\"\n",
    "\n",
    "# Arc spectra to compare\n",
    "dirpath = \"/home/mango/data/data_reductions/WASP50/ut131219_a15_25_noflat/arcs\"\n",
    "fpath_arc = f\"{dirpath}/c06_3_arc.fits\"\n",
    "name = fpath_arc.split('/')[-1].split('_')[0]\n",
    "#fpath_lines = f\"{dirpath}/{name}_guesses.csv\"\n",
    "fpath_lines = f\"{dirpath}/{name}_lines_chips.txt\"\n",
    "\n",
    "# Plot\n",
    "wavs, pixels = utils.compare_arc_lines(\n",
    "    fpath_arc_ref=fpath_arc_ref, \n",
    "    fpath_lines_ref=fpath_lines_ref,\n",
    "    fpath_arc=fpath_arc,\n",
    "    fpath_lines=fpath_lines,\n",
    "    sharex=False, sharey=False,\n",
    ")"
   ]
  },
  {
   "cell_type": "markdown",
   "id": "enhanced-andrews",
   "metadata": {},
   "source": [
    "## Write to file"
   ]
  },
  {
   "cell_type": "code",
   "execution_count": null,
   "id": "greenhouse-flooring",
   "metadata": {},
   "outputs": [],
   "source": [
    "df_guesses = pd.read_csv(fpath_lines, escapechar='#')\n",
    "# update if lines chosen\n",
    "#if len(wavs) != 0 and len(pixels) != 0:\n",
    "chips = [int(fpath_arc.split('/')[-1].split('_')[1])] * len(wavs)\n",
    "df_chosen = pd.DataFrame({\"Wav\":wavs, \"Pix\":pixels, \"Chip\":chips})\n",
    "\n",
    "df_guesses = pd.concat([df_guesses, df_chosen])\n",
    "\n",
    "fname = fpath_lines.split('/')[-1]\n",
    "df_guesses = df_guesses.sort_values(by=[\"Chip\", \"Wav\"])\n",
    "display(df_guesses)\n",
    "print(f\"Will save to: {dirpath}/{fname}\")\n",
    "\n",
    "save = input(\"Continue? (y/n): \")\n",
    "if save.lower() == 'y': \n",
    "    df_guesses.to_csv(f\"{dirpath}/{fname}\", index=False, escapechar='#')\n",
    "    print(f\"Saved to: {dirpath}/{fname}\")\n",
    "else: \n",
    "    print(\"not saved\") "
   ]
  },
  {
   "cell_type": "markdown",
   "id": "greater-ceiling",
   "metadata": {},
   "source": [
    "## Wavelength solution"
   ]
  },
  {
   "cell_type": "code",
   "execution_count": null,
   "id": "domestic-rates",
   "metadata": {},
   "outputs": [],
   "source": [
    "# Plot\n",
    "fig, ax = plt.subplots(figsize=FIG_LARGE)\n",
    "\n",
    "dir_lines = \"/home/mango/data/data_reductions/WASP50/ut131219_a15_25_noflat/arcs\"\n",
    "#fpaths = glob.glob(f\"{dir_lines}/*guesses*.csv\")\n",
    "fpaths = sorted(glob.glob(f\"{dir_lines}/*lines_chips.txt\"))\n",
    "x_name = \"Pix\"\n",
    "y_name = \"Wav\"\n",
    "if \".txt\" in fpaths[0]:\n",
    "    sep = \"\\t\"\n",
    "else:\n",
    "    sep = \",\"\n",
    "for fpath in fpaths:\n",
    "    df = pd.read_csv(fpath, escapechar=\"#\", sep=sep)\n",
    "    comp_name = fpath.split('/')[-1].split('_')[0].split(\"comp\")[-1]\n",
    "    utils.plot_pix_wav(ax, df, x_name, y_name, comp_name)\n",
    "\n",
    "ax.legend(frameon=True, ncol=3)\n",
    "ax.set_xlabel(x_name)\n",
    "ax.set_ylabel(y_name)\n",
    "\n",
    "fig.tight_layout()\n",
    "\n",
    "utils.savefig(\"/home/mango/Desktop/wav_sol.png\", dpi=250)"
   ]
  }
 ],
 "metadata": {
  "kernelspec": {
   "display_name": "Python 3",
   "language": "python",
   "name": "python3"
  },
  "language_info": {
   "codemirror_mode": {
    "name": "ipython",
    "version": 3
   },
   "file_extension": ".py",
   "mimetype": "text/x-python",
   "name": "python",
   "nbconvert_exporter": "python",
   "pygments_lexer": "ipython3",
   "version": "3.9.1"
  },
  "toc": {
   "base_numbering": 1,
   "nav_menu": {},
   "number_sections": false,
   "sideBar": false,
   "skip_h1_title": false,
   "title_cell": "Table of Contents",
   "title_sidebar": "Contents",
   "toc_cell": false,
   "toc_position": {},
   "toc_section_display": true,
   "toc_window_display": false
  }
 },
 "nbformat": 4,
 "nbformat_minor": 5
}
